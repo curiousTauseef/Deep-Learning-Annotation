{
 "cells": [
  {
   "cell_type": "markdown",
   "metadata": {},
   "source": [
    "## Upload Dataset"
   ]
  },
  {
   "cell_type": "markdown",
   "metadata": {},
   "source": [
    "### Import Libraries"
   ]
  },
  {
   "cell_type": "code",
   "execution_count": 1,
   "metadata": {},
   "outputs": [],
   "source": [
    "import os\n",
    "import re\n",
    "from pathlib import Path\n",
    "\n",
    "import pandas as pd\n",
    "from tqdm import tqdm"
   ]
  },
  {
   "cell_type": "markdown",
   "metadata": {},
   "source": [
    "### Set Class -> ResearchThemeParser"
   ]
  },
  {
   "cell_type": "code",
   "execution_count": 2,
   "metadata": {},
   "outputs": [],
   "source": [
    "class ResearchThemeParser:\n",
    "\n",
    "    @staticmethod\n",
    "    def get_research_theme_files():\n",
    "        \"\"\"\n",
    "        a list with all the csv files included in the \n",
    "        research_theme/documents directory\n",
    "        :return: \n",
    "        \"\"\"\n",
    "        return list(Path('research_theme').joinpath(\n",
    "            'documents').glob('**/*.csv'))\n",
    "\n",
    "    def create_paper_level_dataset(self) -> pd.DataFrame:\n",
    "        \"\"\"\n",
    "        a Dataframe of document dictionaries containing text information \n",
    "        :return:\n",
    "        \"\"\"\n",
    "        docs = list()\n",
    "        # read the csv that is contained in the list from \n",
    "        # get_research_theme_files() list\n",
    "\n",
    "        for fpath in tqdm(self.get_research_theme_files()):\n",
    "            df = pd.read_csv(fpath)\n",
    "            \n",
    "            # get the finelame (last column) of each line \n",
    "            filename = str(fpath).split(os.sep)[-1]\n",
    "            \n",
    "            # remove csv extension\n",
    "            filename = re.sub('.csv', '', filename)\n",
    "            paper_corpora = ' '.join(df['sentence'])\n",
    "\n",
    "            # construct a new document dictionary with the captured information\n",
    "            doc = {'text': paper_corpora}\n",
    "            docs.append(doc)\n",
    "\n",
    "        return pd.DataFrame(docs)"
   ]
  },
  {
   "cell_type": "markdown",
   "metadata": {},
   "source": [
    "### Run the Parser to extract data"
   ]
  },
  {
   "cell_type": "code",
   "execution_count": 3,
   "metadata": {
    "scrolled": true
   },
   "outputs": [
    {
     "name": "stderr",
     "output_type": "stream",
     "text": [
      "100%|█████████████████████████████████████████████████████████████████████████████████| 92/92 [00:00<00:00, 181.05it/s]"
     ]
    },
    {
     "name": "stdout",
     "output_type": "stream",
     "text": [
      "                                                 text\n",
      "0   Multivariate Granger causality between CO2 emi...\n",
      "1   Clean fuels for resource-poor settings: A syst...\n",
      "2   Adverse health impacts of cooking with kerosen...\n",
      "3   Effect of hydrogen supplementation on engine p...\n",
      "4   Upcoming Power Crisis in India – Increasing El...\n",
      "..                                                ...\n",
      "87  Political, economic and environmental impacts ...\n",
      "88  Environmental impacts of micro-wind turbines a...\n",
      "89  A new model to assess the environmental impact...\n",
      "90  Climatic physical snowpack properties for larg...\n",
      "91  Empirical determinants of eco-innovation in Eu...\n",
      "\n",
      "[92 rows x 1 columns]\n"
     ]
    },
    {
     "name": "stderr",
     "output_type": "stream",
     "text": [
      "\n"
     ]
    }
   ],
   "source": [
    "if __name__ == \"__main__\":\n",
    "    parser = ResearchThemeParser()\n",
    "    paper_level_rt = parser.create_paper_level_dataset()\n",
    "    print(paper_level_rt)"
   ]
  },
  {
   "cell_type": "markdown",
   "metadata": {},
   "source": [
    "## Exploratory Analysis"
   ]
  },
  {
   "cell_type": "markdown",
   "metadata": {},
   "source": [
    "### Overview of the data"
   ]
  },
  {
   "cell_type": "code",
   "execution_count": 4,
   "metadata": {},
   "outputs": [],
   "source": [
    "import glob\n",
    "\n",
    "path = 'research_theme\\documents'\n",
    "all_files = glob.glob(path + \"/*.csv\")\n",
    "\n",
    "sliced_list = [string_slice[25:] for string_slice in all_files]"
   ]
  },
  {
   "cell_type": "code",
   "execution_count": 5,
   "metadata": {},
   "outputs": [
    {
     "data": {
      "text/html": [
       "<div>\n",
       "<style scoped>\n",
       "    .dataframe tbody tr th:only-of-type {\n",
       "        vertical-align: middle;\n",
       "    }\n",
       "\n",
       "    .dataframe tbody tr th {\n",
       "        vertical-align: top;\n",
       "    }\n",
       "\n",
       "    .dataframe thead th {\n",
       "        text-align: right;\n",
       "    }\n",
       "</style>\n",
       "<table border=\"1\" class=\"dataframe\">\n",
       "  <thead>\n",
       "    <tr style=\"text-align: right;\">\n",
       "      <th></th>\n",
       "      <th>text</th>\n",
       "      <th>filename</th>\n",
       "    </tr>\n",
       "  </thead>\n",
       "  <tbody>\n",
       "    <tr>\n",
       "      <th>0</th>\n",
       "      <td>Multivariate Granger causality between CO2 emi...</td>\n",
       "      <td>ABC_G1B1_10.1016 j.energy.2010.09.041.csv</td>\n",
       "    </tr>\n",
       "    <tr>\n",
       "      <th>1</th>\n",
       "      <td>Clean fuels for resource-poor settings: A syst...</td>\n",
       "      <td>ABC_G1B1_10.1016_j.envres.2016.01.002.csv</td>\n",
       "    </tr>\n",
       "    <tr>\n",
       "      <th>2</th>\n",
       "      <td>Adverse health impacts of cooking with kerosen...</td>\n",
       "      <td>ABC_G1B1_10.1016_j.envres.2020.109851.csv</td>\n",
       "    </tr>\n",
       "    <tr>\n",
       "      <th>3</th>\n",
       "      <td>Effect of hydrogen supplementation on engine p...</td>\n",
       "      <td>ABC_G1B1_Corpus ID 104118586.csv</td>\n",
       "    </tr>\n",
       "    <tr>\n",
       "      <th>4</th>\n",
       "      <td>Upcoming Power Crisis in India – Increasing El...</td>\n",
       "      <td>ABC_G1B1_Corpus ID 190457136.csv</td>\n",
       "    </tr>\n",
       "    <tr>\n",
       "      <th>...</th>\n",
       "      <td>...</td>\n",
       "      <td>...</td>\n",
       "    </tr>\n",
       "    <tr>\n",
       "      <th>87</th>\n",
       "      <td>Political, economic and environmental impacts ...</td>\n",
       "      <td>RST_G7B4_S0306261909001688.csv</td>\n",
       "    </tr>\n",
       "    <tr>\n",
       "      <th>88</th>\n",
       "      <td>Environmental impacts of micro-wind turbines a...</td>\n",
       "      <td>RST_G7B4_S0360544213005355.csv</td>\n",
       "    </tr>\n",
       "    <tr>\n",
       "      <th>89</th>\n",
       "      <td>A new model to assess the environmental impact...</td>\n",
       "      <td>RST_G7B4_S0959652614006386.csv</td>\n",
       "    </tr>\n",
       "    <tr>\n",
       "      <th>90</th>\n",
       "      <td>Climatic physical snowpack properties for larg...</td>\n",
       "      <td>RST_G7B4_S1873965212000060.csv</td>\n",
       "    </tr>\n",
       "    <tr>\n",
       "      <th>91</th>\n",
       "      <td>Empirical determinants of eco-innovation in Eu...</td>\n",
       "      <td>RST_G7B4_S2210422415300204.csv</td>\n",
       "    </tr>\n",
       "  </tbody>\n",
       "</table>\n",
       "<p>92 rows × 2 columns</p>\n",
       "</div>"
      ],
      "text/plain": [
       "                                                 text  \\\n",
       "0   Multivariate Granger causality between CO2 emi...   \n",
       "1   Clean fuels for resource-poor settings: A syst...   \n",
       "2   Adverse health impacts of cooking with kerosen...   \n",
       "3   Effect of hydrogen supplementation on engine p...   \n",
       "4   Upcoming Power Crisis in India – Increasing El...   \n",
       "..                                                ...   \n",
       "87  Political, economic and environmental impacts ...   \n",
       "88  Environmental impacts of micro-wind turbines a...   \n",
       "89  A new model to assess the environmental impact...   \n",
       "90  Climatic physical snowpack properties for larg...   \n",
       "91  Empirical determinants of eco-innovation in Eu...   \n",
       "\n",
       "                                     filename  \n",
       "0   ABC_G1B1_10.1016 j.energy.2010.09.041.csv  \n",
       "1   ABC_G1B1_10.1016_j.envres.2016.01.002.csv  \n",
       "2   ABC_G1B1_10.1016_j.envres.2020.109851.csv  \n",
       "3            ABC_G1B1_Corpus ID 104118586.csv  \n",
       "4            ABC_G1B1_Corpus ID 190457136.csv  \n",
       "..                                        ...  \n",
       "87             RST_G7B4_S0306261909001688.csv  \n",
       "88             RST_G7B4_S0360544213005355.csv  \n",
       "89             RST_G7B4_S0959652614006386.csv  \n",
       "90             RST_G7B4_S1873965212000060.csv  \n",
       "91             RST_G7B4_S2210422415300204.csv  \n",
       "\n",
       "[92 rows x 2 columns]"
      ]
     },
     "metadata": {},
     "output_type": "display_data"
    }
   ],
   "source": [
    "# first, set the parameters of the notebook\n",
    "pd.set_option('display.max_columns', 10) # display up to 10 columns\n",
    "pd.set_option('display.max_rows', 10) # display up to 10 rows\n",
    "\n",
    "paper_level_rt['filename'] = sliced_list\n",
    "\n",
    "display(paper_level_rt)"
   ]
  },
  {
   "cell_type": "code",
   "execution_count": 6,
   "metadata": {},
   "outputs": [
    {
     "name": "stdout",
     "output_type": "stream",
     "text": [
      "Multivariate Granger causality between CO2 emissions, energy consumption, FDI (foreign direct investment) and GDP (gross domestic product): Evidence from a panel of BRIC (Brazil, Russian Federation, India, and China) countries Abstract: This paper addresses the impact of both economic growth and financial development on environmental degradation using a panel cointegration technique for the period between 1980 and 2007, except for Russia (1992–2007). In long-run equilibrium, CO2 emissions appear to be energy consumption elastic and FDI inelastic, and the results seem to support the Environmental Kuznets Curve (EKC) hypothesis. The causality results indicate that there exists strong bidirectional causality between emissions and FDI and unidirectional strong causality running from output to FDI. The evidence seems to support the pollution haven and both the halo and scale effects. Therefore, in attracting FDI, developing countries should strictly examine the qualifications for foreign investment or to promote environmental protection through the coordinated know-how and technological transfer with foreign companies to avoid environmental damage. Additionally, there exists strong output-emissions and output-energy consumption bidirectional causality, while there is unidirectional strong causality running from energy consumption to emissions. Overall, the method of managing both energy demand and FDI and increasing both investment in the energy supply and energy efficiency to reduce CO2 emissions and without compromising the country’s competitiveness can be adopted by energy-dependent BRIC countries.\n"
     ]
    }
   ],
   "source": [
    "# See the text of the first paper\n",
    "idx = 0\n",
    "\n",
    "print(paper_level_rt.loc[idx]['text'])"
   ]
  },
  {
   "cell_type": "markdown",
   "metadata": {},
   "source": [
    "### Variables' types"
   ]
  },
  {
   "cell_type": "code",
   "execution_count": 7,
   "metadata": {},
   "outputs": [
    {
     "data": {
      "text/plain": [
       "text        object\n",
       "filename    object\n",
       "dtype: object"
      ]
     },
     "execution_count": 7,
     "metadata": {},
     "output_type": "execute_result"
    }
   ],
   "source": [
    "paper_level_rt.dtypes"
   ]
  },
  {
   "cell_type": "markdown",
   "metadata": {},
   "source": [
    "### Dataset's size & shape"
   ]
  },
  {
   "cell_type": "code",
   "execution_count": 8,
   "metadata": {},
   "outputs": [
    {
     "name": "stdout",
     "output_type": "stream",
     "text": [
      "Dataset size: 92\n",
      "Dataset shape: (92, 2)\n"
     ]
    }
   ],
   "source": [
    "print(\"Dataset size:\", len(paper_level_rt))\n",
    "print('Dataset shape: {}'.format(paper_level_rt.shape))"
   ]
  },
  {
   "cell_type": "markdown",
   "metadata": {},
   "source": [
    "### Check for missing values"
   ]
  },
  {
   "cell_type": "code",
   "execution_count": 9,
   "metadata": {},
   "outputs": [
    {
     "data": {
      "text/plain": [
       "text        0\n",
       "filename    0\n",
       "dtype: int64"
      ]
     },
     "execution_count": 9,
     "metadata": {},
     "output_type": "execute_result"
    }
   ],
   "source": [
    "paper_level_rt.isna().sum() "
   ]
  },
  {
   "cell_type": "code",
   "execution_count": 10,
   "metadata": {
    "scrolled": true
   },
   "outputs": [
    {
     "data": {
      "text/html": [
       "<div>\n",
       "<style scoped>\n",
       "    .dataframe tbody tr th:only-of-type {\n",
       "        vertical-align: middle;\n",
       "    }\n",
       "\n",
       "    .dataframe tbody tr th {\n",
       "        vertical-align: top;\n",
       "    }\n",
       "\n",
       "    .dataframe thead th {\n",
       "        text-align: right;\n",
       "    }\n",
       "</style>\n",
       "<table border=\"1\" class=\"dataframe\">\n",
       "  <thead>\n",
       "    <tr style=\"text-align: right;\">\n",
       "      <th></th>\n",
       "      <th>count</th>\n",
       "      <th>unique</th>\n",
       "      <th>top</th>\n",
       "      <th>freq</th>\n",
       "    </tr>\n",
       "  </thead>\n",
       "  <tbody>\n",
       "    <tr>\n",
       "      <th>text</th>\n",
       "      <td>92</td>\n",
       "      <td>92</td>\n",
       "      <td>Title: Indigenous men's groups and social and ...</td>\n",
       "      <td>1</td>\n",
       "    </tr>\n",
       "    <tr>\n",
       "      <th>filename</th>\n",
       "      <td>92</td>\n",
       "      <td>92</td>\n",
       "      <td>LNR_G5B2_10.1007_s00267-008-9197-0.csv</td>\n",
       "      <td>1</td>\n",
       "    </tr>\n",
       "  </tbody>\n",
       "</table>\n",
       "</div>"
      ],
      "text/plain": [
       "         count unique                                                top freq\n",
       "text        92     92  Title: Indigenous men's groups and social and ...    1\n",
       "filename    92     92             LNR_G5B2_10.1007_s00267-008-9197-0.csv    1"
      ]
     },
     "execution_count": 10,
     "metadata": {},
     "output_type": "execute_result"
    }
   ],
   "source": [
    "# Some basic description \n",
    "paper_level_rt.describe().T "
   ]
  },
  {
   "cell_type": "markdown",
   "metadata": {},
   "source": [
    "### Drop duplicate papers"
   ]
  },
  {
   "cell_type": "code",
   "execution_count": 11,
   "metadata": {},
   "outputs": [],
   "source": [
    "newdata = paper_level_rt.drop_duplicates(subset=['text'], keep='last')"
   ]
  },
  {
   "cell_type": "code",
   "execution_count": 12,
   "metadata": {},
   "outputs": [
    {
     "data": {
      "text/html": [
       "<div>\n",
       "<style scoped>\n",
       "    .dataframe tbody tr th:only-of-type {\n",
       "        vertical-align: middle;\n",
       "    }\n",
       "\n",
       "    .dataframe tbody tr th {\n",
       "        vertical-align: top;\n",
       "    }\n",
       "\n",
       "    .dataframe thead th {\n",
       "        text-align: right;\n",
       "    }\n",
       "</style>\n",
       "<table border=\"1\" class=\"dataframe\">\n",
       "  <thead>\n",
       "    <tr style=\"text-align: right;\">\n",
       "      <th></th>\n",
       "      <th>count</th>\n",
       "      <th>unique</th>\n",
       "      <th>top</th>\n",
       "      <th>freq</th>\n",
       "    </tr>\n",
       "  </thead>\n",
       "  <tbody>\n",
       "    <tr>\n",
       "      <th>text</th>\n",
       "      <td>92</td>\n",
       "      <td>92</td>\n",
       "      <td>Title: Indigenous men's groups and social and ...</td>\n",
       "      <td>1</td>\n",
       "    </tr>\n",
       "    <tr>\n",
       "      <th>filename</th>\n",
       "      <td>92</td>\n",
       "      <td>92</td>\n",
       "      <td>LNR_G5B2_10.1007_s00267-008-9197-0.csv</td>\n",
       "      <td>1</td>\n",
       "    </tr>\n",
       "  </tbody>\n",
       "</table>\n",
       "</div>"
      ],
      "text/plain": [
       "         count unique                                                top freq\n",
       "text        92     92  Title: Indigenous men's groups and social and ...    1\n",
       "filename    92     92             LNR_G5B2_10.1007_s00267-008-9197-0.csv    1"
      ]
     },
     "execution_count": 12,
     "metadata": {},
     "output_type": "execute_result"
    }
   ],
   "source": [
    "# Sanity check\n",
    "newdata.describe().T "
   ]
  },
  {
   "cell_type": "markdown",
   "metadata": {},
   "source": [
    "## Extract data"
   ]
  },
  {
   "cell_type": "markdown",
   "metadata": {},
   "source": [
    "### Create a new folder in directory (provided in github)"
   ]
  },
  {
   "cell_type": "code",
   "execution_count": 13,
   "metadata": {},
   "outputs": [],
   "source": [
    "# you can either download the \"Dataset\" directory from github, or uncomment below line and execute\n",
    "# !mkdir Dataset"
   ]
  },
  {
   "cell_type": "markdown",
   "metadata": {},
   "source": [
    "### Extract the dataframes to CSV files"
   ]
  },
  {
   "cell_type": "code",
   "execution_count": 14,
   "metadata": {},
   "outputs": [
    {
     "name": "stdout",
     "output_type": "stream",
     "text": [
      "Extraction of 'heldout_dataset.csv' is finished\n"
     ]
    }
   ],
   "source": [
    "path = \"./Dataset/\"\n",
    "\n",
    "filename_write = os.path.join(path, \"heldout_dataset.csv\")\n",
    "paper_level_rt.to_csv(filename_write, index=False)\n",
    "print(\"Extraction of 'heldout_dataset.csv' is finished\")\n"
   ]
  },
  {
   "cell_type": "code",
   "execution_count": null,
   "metadata": {},
   "outputs": [],
   "source": []
  }
 ],
 "metadata": {
  "kernelspec": {
   "display_name": "Python 3",
   "language": "python",
   "name": "python3"
  },
  "language_info": {
   "codemirror_mode": {
    "name": "ipython",
    "version": 3
   },
   "file_extension": ".py",
   "mimetype": "text/x-python",
   "name": "python",
   "nbconvert_exporter": "python",
   "pygments_lexer": "ipython3",
   "version": "3.7.7"
  }
 },
 "nbformat": 4,
 "nbformat_minor": 4
}
